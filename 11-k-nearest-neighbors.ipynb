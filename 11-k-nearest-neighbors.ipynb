{
 "cells": [
  {
   "cell_type": "markdown",
   "metadata": {},
   "source": [
    "# K-nearest Neighbors\n",
    "<span style=\"font-size: 12px;\">By: Marisol Hernandez</span>"
   ]
  },
  {
   "cell_type": "markdown",
   "metadata": {},
   "source": [
    "## 1. Introduction to K-nearest Neighbors\n",
    "**K-Nearest Neighbors (KNN)** is a simple, intuitive, and versatile machine learning algorithm used for both **<span style=\"color: red;\">classification</span>** and **<span style=\"color: red;\">regression</span>** tasks. It is a non-parametric and lazy learning algorithm, meaning it makes no assumptions about the underlying data distribution and performs little to no training but classifies data points at the time of prediction.\n",
    "\n",
    "In KNN, a data point is classified or predicted based on the most classes or values of the `K` nearest data points in the feature space.\n",
    "\n",
    "### Applications\n",
    "- **Handwriting Recognition**: KNN can be used to recognize handwritten digits by comparing the pixel values of an unknown digit to the known digits. For instance, to classify a new handwritten digit, KNN finds the `k` nearest known digits in the dataset and assigns the most common digit among them as the prediction.\n",
    "\n",
    "- **Recommender Systems**: To suggest new movies to a user, KNN identifies the `k` most similar users based on their viewing history and recommends movies that those users have liked.\n",
    "\n",
    "- **Customer Spending Prediction**: To predict how much money a potential customer might spend, KNN can look at the spending habits of the `k` most similar customers and average their spending to make the prediction."
   ]
  },
  {
   "cell_type": "markdown",
   "metadata": {},
   "source": [
    "## 2. How KNN Works"
   ]
  },
  {
   "cell_type": "markdown",
   "metadata": {},
   "source": []
  }
 ],
 "metadata": {
  "language_info": {
   "name": "python"
  }
 },
 "nbformat": 4,
 "nbformat_minor": 2
}
